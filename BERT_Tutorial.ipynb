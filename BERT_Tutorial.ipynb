{
 "cells": [
  {
   "cell_type": "markdown",
   "id": "amino-munich",
   "metadata": {},
   "source": [
    "https://www.youtube.com/watch?v=_eSGWNqKeeY"
   ]
  },
  {
   "cell_type": "markdown",
   "id": "aboriginal-husband",
   "metadata": {},
   "source": [
    "# 간단한 EDA"
   ]
  },
  {
   "cell_type": "code",
   "execution_count": 1,
   "id": "married-haven",
   "metadata": {},
   "outputs": [],
   "source": [
    "import numpy as np # linear algebra\n",
    "import pandas as pd # data processing, CSV file I/O (e.g. pd.read_csv)\n",
    "from sklearn import feature_extraction, linear_model, model_selection, preprocessing\n",
    "import re\n",
    "import torch"
   ]
  },
  {
   "cell_type": "code",
   "execution_count": 2,
   "id": "mechanical-breakfast",
   "metadata": {},
   "outputs": [
    {
     "name": "stdout",
     "output_type": "stream",
     "text": [
      " Done.\n"
     ]
    }
   ],
   "source": [
    "path = \"./data\"\n",
    "train_df = pd.read_csv(path + \"/train.csv\")\n",
    "test_df = pd.read_csv(path + \"/test.csv\")\n",
    "print(' Done.')"
   ]
  },
  {
   "cell_type": "code",
   "execution_count": 3,
   "id": "norwegian-mirror",
   "metadata": {},
   "outputs": [
    {
     "data": {
      "text/html": [
       "<div>\n",
       "<style scoped>\n",
       "    .dataframe tbody tr th:only-of-type {\n",
       "        vertical-align: middle;\n",
       "    }\n",
       "\n",
       "    .dataframe tbody tr th {\n",
       "        vertical-align: top;\n",
       "    }\n",
       "\n",
       "    .dataframe thead th {\n",
       "        text-align: right;\n",
       "    }\n",
       "</style>\n",
       "<table border=\"1\" class=\"dataframe\">\n",
       "  <thead>\n",
       "    <tr style=\"text-align: right;\">\n",
       "      <th></th>\n",
       "      <th>id</th>\n",
       "      <th>keyword</th>\n",
       "      <th>location</th>\n",
       "      <th>text</th>\n",
       "      <th>target</th>\n",
       "    </tr>\n",
       "  </thead>\n",
       "  <tbody>\n",
       "    <tr>\n",
       "      <th>0</th>\n",
       "      <td>1</td>\n",
       "      <td>NaN</td>\n",
       "      <td>NaN</td>\n",
       "      <td>Our Deeds are the Reason of this #earthquake M...</td>\n",
       "      <td>1</td>\n",
       "    </tr>\n",
       "    <tr>\n",
       "      <th>1</th>\n",
       "      <td>4</td>\n",
       "      <td>NaN</td>\n",
       "      <td>NaN</td>\n",
       "      <td>Forest fire near La Ronge Sask. Canada</td>\n",
       "      <td>1</td>\n",
       "    </tr>\n",
       "    <tr>\n",
       "      <th>2</th>\n",
       "      <td>5</td>\n",
       "      <td>NaN</td>\n",
       "      <td>NaN</td>\n",
       "      <td>All residents asked to 'shelter in place' are ...</td>\n",
       "      <td>1</td>\n",
       "    </tr>\n",
       "    <tr>\n",
       "      <th>3</th>\n",
       "      <td>6</td>\n",
       "      <td>NaN</td>\n",
       "      <td>NaN</td>\n",
       "      <td>13,000 people receive #wildfires evacuation or...</td>\n",
       "      <td>1</td>\n",
       "    </tr>\n",
       "    <tr>\n",
       "      <th>4</th>\n",
       "      <td>7</td>\n",
       "      <td>NaN</td>\n",
       "      <td>NaN</td>\n",
       "      <td>Just got sent this photo from Ruby #Alaska as ...</td>\n",
       "      <td>1</td>\n",
       "    </tr>\n",
       "  </tbody>\n",
       "</table>\n",
       "</div>"
      ],
      "text/plain": [
       "   id keyword location                                               text  \\\n",
       "0   1     NaN      NaN  Our Deeds are the Reason of this #earthquake M...   \n",
       "1   4     NaN      NaN             Forest fire near La Ronge Sask. Canada   \n",
       "2   5     NaN      NaN  All residents asked to 'shelter in place' are ...   \n",
       "3   6     NaN      NaN  13,000 people receive #wildfires evacuation or...   \n",
       "4   7     NaN      NaN  Just got sent this photo from Ruby #Alaska as ...   \n",
       "\n",
       "   target  \n",
       "0       1  \n",
       "1       1  \n",
       "2       1  \n",
       "3       1  \n",
       "4       1  "
      ]
     },
     "execution_count": 3,
     "metadata": {},
     "output_type": "execute_result"
    }
   ],
   "source": [
    "# Display the first five rows of the table.\n",
    "train_df.head()"
   ]
  },
  {
   "cell_type": "markdown",
   "id": "academic-tobago",
   "metadata": {},
   "source": [
    "### 불용어 제거하여 corpus만들기"
   ]
  },
  {
   "cell_type": "code",
   "execution_count": 4,
   "id": "front-saying",
   "metadata": {},
   "outputs": [],
   "source": [
    "# 불용어 제거: @를 포함한 태그 문구 삭제, 링크 주소 삭제\n",
    "docs = [[word for word in sent if not any('http')] for sent in train_df.text]"
   ]
  },
  {
   "cell_type": "code",
   "execution_count": 5,
   "id": "molecular-spray",
   "metadata": {
    "id": "8cxBJMZ0aCyH"
   },
   "outputs": [],
   "source": [
    "#부호를 제거해주는 함수\n",
    "def alpha_num(text):\n",
    "    return re.sub(r'[^A-Za-z0-9 ]', '', text)"
   ]
  },
  {
   "cell_type": "code",
   "execution_count": 6,
   "id": "general-blanket",
   "metadata": {
    "id": "7erMaZw5aCyH"
   },
   "outputs": [],
   "source": [
    "# 불용어 제거해주는 함수\n",
    "def remove_stopwords(text):\n",
    "    final_text = []\n",
    "    for i in text.split():\n",
    "        if i.strip().lower()[:4] not in stopwords:\n",
    "            final_text.append(i.strip())\n",
    "    return \" \".join(final_text)\n",
    "\n",
    "# 불용어\n",
    "stopwords = ['http']"
   ]
  },
  {
   "cell_type": "code",
   "execution_count": 7,
   "id": "original-partition",
   "metadata": {
    "id": "qlzZ5li-aCyI"
   },
   "outputs": [],
   "source": [
    "#전처리 적용(부호 제거해 주고 소문자로 바꿔주고 불용어(홈페이지 주소)도 제거)\n",
    "train_df['text'] = train_df['text'].apply(alpha_num)\n",
    "train_df['text'] = train_df['text'].str.lower()\n",
    "train_df['text'] = train_df['text'].apply(remove_stopwords)"
   ]
  },
  {
   "cell_type": "code",
   "execution_count": 8,
   "id": "sonic-clearing",
   "metadata": {},
   "outputs": [
    {
     "data": {
      "text/plain": [
       "['the latest more homes razed by northern california wildfire abc news']"
      ]
     },
     "execution_count": 8,
     "metadata": {},
     "output_type": "execute_result"
    }
   ],
   "source": [
    "[i for i in train_df.tail(1).text]"
   ]
  },
  {
   "cell_type": "markdown",
   "id": "vital-geometry",
   "metadata": {},
   "source": [
    "### 누락값 처리"
   ]
  },
  {
   "cell_type": "code",
   "execution_count": 9,
   "id": "married-length",
   "metadata": {},
   "outputs": [
    {
     "name": "stdout",
     "output_type": "stream",
     "text": [
      "<class 'pandas.core.frame.DataFrame'>\n",
      "RangeIndex: 7613 entries, 0 to 7612\n",
      "Data columns (total 5 columns):\n",
      " #   Column    Non-Null Count  Dtype \n",
      "---  ------    --------------  ----- \n",
      " 0   id        7613 non-null   int64 \n",
      " 1   keyword   7552 non-null   object\n",
      " 2   location  5080 non-null   object\n",
      " 3   text      7613 non-null   object\n",
      " 4   target    7613 non-null   int64 \n",
      "dtypes: int64(2), object(3)\n",
      "memory usage: 297.5+ KB\n"
     ]
    }
   ],
   "source": [
    "train_df.info()"
   ]
  },
  {
   "cell_type": "code",
   "execution_count": 10,
   "id": "specific-colonial",
   "metadata": {},
   "outputs": [
    {
     "data": {
      "text/plain": [
       "61"
      ]
     },
     "execution_count": 10,
     "metadata": {},
     "output_type": "execute_result"
    }
   ],
   "source": [
    "# 누락값의 개수\n",
    "np.count_nonzero(train_df.keyword.isnull())"
   ]
  },
  {
   "cell_type": "code",
   "execution_count": 11,
   "id": "romance-bleeding",
   "metadata": {},
   "outputs": [
    {
     "data": {
      "text/plain": [
       "7552"
      ]
     },
     "execution_count": 11,
     "metadata": {},
     "output_type": "execute_result"
    }
   ],
   "source": [
    "# 누락값이 아닌 자료 개수\n",
    "train_df.keyword.count()"
   ]
  },
  {
   "cell_type": "code",
   "execution_count": 12,
   "id": "sweet-relevance",
   "metadata": {},
   "outputs": [
    {
     "data": {
      "text/plain": [
       "(7552, 5)"
      ]
     },
     "execution_count": 12,
     "metadata": {},
     "output_type": "execute_result"
    }
   ],
   "source": [
    "# keyword 없는 행이 전체 자료들에서 차지하는 비중이 작으므로 삭제\n",
    "train_df = train_df[train_df['keyword'].notna()]\n",
    "train_df.shape"
   ]
  },
  {
   "cell_type": "markdown",
   "id": "naughty-accounting",
   "metadata": {},
   "source": [
    "단어별 재난 연관률"
   ]
  },
  {
   "cell_type": "code",
   "execution_count": 13,
   "id": "correct-possession",
   "metadata": {},
   "outputs": [],
   "source": [
    "keywords_targets = train_df.groupby('keyword')['target'].mean()"
   ]
  },
  {
   "cell_type": "code",
   "execution_count": 14,
   "id": "accredited-liberia",
   "metadata": {},
   "outputs": [
    {
     "data": {
      "text/plain": [
       "keyword\n",
       "ablaze                 0.361111\n",
       "accident               0.685714\n",
       "aftershock             0.000000\n",
       "airplane%20accident    0.857143\n",
       "ambulance              0.526316\n",
       "                         ...   \n",
       "wounded                0.702703\n",
       "wounds                 0.303030\n",
       "wreck                  0.189189\n",
       "wreckage               1.000000\n",
       "wrecked                0.076923\n",
       "Name: target, Length: 221, dtype: float64"
      ]
     },
     "execution_count": 14,
     "metadata": {},
     "output_type": "execute_result"
    }
   ],
   "source": [
    "keywords_targets"
   ]
  },
  {
   "cell_type": "code",
   "execution_count": 15,
   "id": "printable-session",
   "metadata": {},
   "outputs": [],
   "source": [
    "k_t_corelation = pd.DataFrame(keywords_targets)"
   ]
  },
  {
   "cell_type": "code",
   "execution_count": 16,
   "id": "heavy-plane",
   "metadata": {},
   "outputs": [
    {
     "data": {
      "text/html": [
       "<div>\n",
       "<style scoped>\n",
       "    .dataframe tbody tr th:only-of-type {\n",
       "        vertical-align: middle;\n",
       "    }\n",
       "\n",
       "    .dataframe tbody tr th {\n",
       "        vertical-align: top;\n",
       "    }\n",
       "\n",
       "    .dataframe thead th {\n",
       "        text-align: right;\n",
       "    }\n",
       "</style>\n",
       "<table border=\"1\" class=\"dataframe\">\n",
       "  <thead>\n",
       "    <tr style=\"text-align: right;\">\n",
       "      <th></th>\n",
       "      <th>target</th>\n",
       "    </tr>\n",
       "    <tr>\n",
       "      <th>keyword</th>\n",
       "      <th></th>\n",
       "    </tr>\n",
       "  </thead>\n",
       "  <tbody>\n",
       "    <tr>\n",
       "      <th>debris</th>\n",
       "      <td>1.000000</td>\n",
       "    </tr>\n",
       "    <tr>\n",
       "      <th>wreckage</th>\n",
       "      <td>1.000000</td>\n",
       "    </tr>\n",
       "    <tr>\n",
       "      <th>derailment</th>\n",
       "      <td>1.000000</td>\n",
       "    </tr>\n",
       "    <tr>\n",
       "      <th>outbreak</th>\n",
       "      <td>0.975000</td>\n",
       "    </tr>\n",
       "    <tr>\n",
       "      <th>oil%20spill</th>\n",
       "      <td>0.973684</td>\n",
       "    </tr>\n",
       "  </tbody>\n",
       "</table>\n",
       "</div>"
      ],
      "text/plain": [
       "               target\n",
       "keyword              \n",
       "debris       1.000000\n",
       "wreckage     1.000000\n",
       "derailment   1.000000\n",
       "outbreak     0.975000\n",
       "oil%20spill  0.973684"
      ]
     },
     "execution_count": 16,
     "metadata": {},
     "output_type": "execute_result"
    }
   ],
   "source": [
    "k_t_corelation = k_t_corelation.sort_values(by='target', ascending=False)\n",
    "k_t_corelation.head()"
   ]
  },
  {
   "cell_type": "code",
   "execution_count": 18,
   "id": "indian-sword",
   "metadata": {},
   "outputs": [
    {
     "data": {
      "text/plain": [
       "(221,)"
      ]
     },
     "execution_count": 18,
     "metadata": {},
     "output_type": "execute_result"
    }
   ],
   "source": [
    "keywords_targets.shape"
   ]
  },
  {
   "cell_type": "markdown",
   "id": "disciplinary-commander",
   "metadata": {},
   "source": [
    "해당 단어 등장 대비 실제 재해 트윗인 비율을 기준으로 221개의 keyword 중, 상위 5개 단어를 뽑아봄: 특히 debris, wreckage, derailment 이 3개 단어는 등장했을 경우 모두 재난 상황을 지칭한 경우였음"
   ]
  },
  {
   "cell_type": "markdown",
   "id": "limited-parks",
   "metadata": {},
   "source": [
    "#### 재난 상황 트윗 임의로 10개 뽑아 관찰"
   ]
  },
  {
   "cell_type": "code",
   "execution_count": 19,
   "id": "earned-lobby",
   "metadata": {
    "scrolled": true,
    "tags": []
   },
   "outputs": [
    {
     "name": "stdout",
     "output_type": "stream",
     "text": [
      "\n",
      "national briefing west california spring oil spill estimate grows documents\n",
      "released on wednesday disclos\n",
      "\n",
      "\n",
      "durbanknight rescuers are searching for hundreds of migrants in the\n",
      "mediterranean after a boat carr nosybe\n",
      "\n",
      "\n",
      "israel wrecked my home now it wants my land\n",
      "\n",
      "\n",
      "etribune us drone attack kills 4suspected militants in north waziristan\n",
      "acebreakingnews\n",
      "\n",
      "\n",
      "severe tstorm warning for union county 345pm top threats include heavy rain\n",
      "lightning amp damaging winds\n",
      "\n",
      "\n",
      "photo lavenderpoetrycafe the forgotten history of sexual trauma hysteria was an\n",
      "affliction seen primarily\n",
      "\n",
      "\n",
      "incredulous at continued outcry of welfare being a waste of taxpayers money but\n",
      "never similar objection to 100bn on nuclear weapons\n",
      "\n",
      "\n",
      "csaresu american tragedy\n",
      "\n",
      "\n",
      "we want to see no more hiroshima and nagasaki nuclear bomb disaster in this\n",
      "beautiful worldlets be peaceful amp save this human civilization\n",
      "\n",
      "\n",
      "travelelixir any idea whats going on i hear no sirens but this damn helo is\n",
      "flying so low my apt is shaking\n",
      "\n"
     ]
    }
   ],
   "source": [
    "import textwrap\n",
    "import random\n",
    "\n",
    "# Wrap text to 80 characters\n",
    "wrapper = textwrap.TextWrapper(width = 80)\n",
    "\n",
    "# filter to just the 'Disaster' comments\n",
    "disaster_examples = train_df.query('target == 1')['text']\n",
    "\n",
    "# Randomly choose some examples\n",
    "for i in range(10):\n",
    "    j = random.choice(disaster_examples.index)\n",
    "    print('')\n",
    "    print(wrapper.fill(disaster_examples[j]))\n",
    "    print('')"
   ]
  },
  {
   "cell_type": "code",
   "execution_count": 20,
   "id": "informed-abortion",
   "metadata": {},
   "outputs": [
    {
     "name": "stdout",
     "output_type": "stream",
     "text": [
      "7,552개의 트윗 중 3,229개는 재난 관련 트윗임(42.76%).\n"
     ]
    }
   ],
   "source": [
    "# What percentage of the comments are disaster tweets?\n",
    "total_tweets = len(train_df)\n",
    "num_disasters = len(train_df.query('target == 1'))\n",
    "\n",
    "print('{:,}개의 트윗 중 {:,}개는 재난 관련 트윗임({:.2%}).'.format(total_tweets, num_disasters, num_disasters/total_tweets))"
   ]
  },
  {
   "cell_type": "markdown",
   "id": "secret-religion",
   "metadata": {},
   "source": [
    "keyword == NaN인 행들을 날린 train_df는 재난 트윗과 재난이 아닌 트윗이 꽤 균형 있게 존재한다."
   ]
  },
  {
   "cell_type": "markdown",
   "id": "buried-trade",
   "metadata": {},
   "source": [
    "다양한 python format 형식들: https://www.w3schools.com/python/ref_string_format.asp"
   ]
  },
  {
   "cell_type": "code",
   "execution_count": 21,
   "id": "forbidden-norfolk",
   "metadata": {},
   "outputs": [
    {
     "name": "stdout",
     "output_type": "stream",
     "text": [
      "전체 tweets 중 최대 길이: 143, 최소 길이 5 \n",
      "재해 tweets 중 최대 길이: 8, 최소 길이 2\n"
     ]
    }
   ],
   "source": [
    "# 전처리된 train_df의 text들 중 가장 긴 tweet의 단어 개수와 가장 짧은 단어 개수 출력\n",
    "total_mx = max([len(length) for length in train_df.text])\n",
    "total_mn = min([len(length) for length in train_df.text])\n",
    "disaster_mx = max([len(length) for length in train_df.query('target == 1')])\n",
    "disaster_mn = min([len(length) for length in train_df.query('target == 1')])\n",
    "\n",
    "print('전체 tweets 중 최대 길이: {:>,}, 최소 길이 {:>,} \\n재해 tweets 중 최대 길이: {}, 최소 길이 {}'.format(total_mx, total_mn, disaster_mx, disaster_mn))"
   ]
  },
  {
   "cell_type": "markdown",
   "id": "cross-circumstances",
   "metadata": {},
   "source": [
    "# BERT Input Length Limitation"
   ]
  },
  {
   "cell_type": "code",
   "execution_count": 22,
   "id": "advisory-jewel",
   "metadata": {},
   "outputs": [
    {
     "name": "stdout",
     "output_type": "stream",
     "text": [
      "Load Bert_Tokenizer...\n"
     ]
    }
   ],
   "source": [
    "from transformers import BertTokenizer\n",
    "\n",
    "print(\"Load Bert_Tokenizer...\")\n",
    "tokenizer = BertTokenizer.from_pretrained('bert-base-uncased', do_lower_case = True)"
   ]
  },
  {
   "cell_type": "markdown",
   "id": "square-medicare",
   "metadata": {},
   "source": [
    "BertTokenizer이 어떻게 작동되는지 살펴보기"
   ]
  },
  {
   "cell_type": "code",
   "execution_count": 23,
   "id": "double-gothic",
   "metadata": {},
   "outputs": [
    {
     "name": "stdout",
     "output_type": "stream",
     "text": [
      "train_df의 첫 번째 text에는 7개의 WordPiece Tokens를 가지고 있다\n",
      "\n",
      "Original Text:\n",
      "\n",
      "bbcmtd wholesale markets ablaze\n"
     ]
    }
   ],
   "source": [
    "# 첫 번째 텍스트 꺼내오기\n",
    "sample_text = train_df.iloc[0].text\n",
    "\n",
    "# Run the tokenizer to count up the number of tokens. The tokenizer will split the text into words, punctuations and subwords as needed\n",
    "tokens = tokenizer.tokenize(sample_text)\n",
    "\n",
    "print('train_df의 첫 번째 text에는 {:,}개의 WordPiece Tokens를 가지고 있다'.format(len(tokens)))\n",
    "print('\\nOriginal Text:\\n')\n",
    "print(wrapper.fill(sample_text))"
   ]
  },
  {
   "cell_type": "code",
   "execution_count": 24,
   "id": "handmade-microphone",
   "metadata": {},
   "outputs": [
    {
     "name": "stdout",
     "output_type": "stream",
     "text": [
      "==== Tokens ====\n",
      "\n",
      "bbc ##mt ##d wholesale markets ab ##laze\n",
      "\n"
     ]
    }
   ],
   "source": [
    "# 토큰 리스트 출력\n",
    "print('==== Tokens ====\\n')\n",
    "print(wrapper.fill(str(' '.join(tokens))))\n",
    "print('')"
   ]
  },
  {
   "cell_type": "markdown",
   "id": "alpha-serve",
   "metadata": {},
   "source": [
    "##으로 끊긴 부분은 subword로 끊어 학습한 것"
   ]
  },
  {
   "cell_type": "markdown",
   "id": "domestic-electricity",
   "metadata": {},
   "source": [
    "### 모든 트윗들 Bert 이용하여 Tokenize"
   ]
  },
  {
   "cell_type": "code",
   "execution_count": 25,
   "id": "willing-wedding",
   "metadata": {
    "scrolled": true,
    "tags": []
   },
   "outputs": [
    {
     "name": "stdout",
     "output_type": "stream",
     "text": [
      "Tokenizing Tweets...\n",
      " Read 0 tweets.\n",
      " Read 200 tweets.\n",
      " Read 400 tweets.\n",
      " Read 600 tweets.\n",
      " Read 800 tweets.\n",
      " Read 1,000 tweets.\n",
      " Read 1,200 tweets.\n",
      " Read 1,400 tweets.\n",
      " Read 1,600 tweets.\n",
      " Read 1,800 tweets.\n",
      " Read 2,000 tweets.\n",
      " Read 2,200 tweets.\n",
      " Read 2,400 tweets.\n",
      " Read 2,600 tweets.\n",
      " Read 2,800 tweets.\n",
      " Read 3,000 tweets.\n",
      " Read 3,200 tweets.\n",
      " Read 3,400 tweets.\n",
      " Read 3,600 tweets.\n",
      " Read 3,800 tweets.\n",
      " Read 4,000 tweets.\n",
      " Read 4,200 tweets.\n",
      " Read 4,400 tweets.\n",
      " Read 4,600 tweets.\n",
      " Read 4,800 tweets.\n",
      " Read 5,000 tweets.\n",
      " Read 5,200 tweets.\n",
      " Read 5,400 tweets.\n",
      " Read 5,600 tweets.\n",
      " Read 5,800 tweets.\n",
      " Read 6,000 tweets.\n",
      " Read 6,200 tweets.\n",
      " Read 6,400 tweets.\n",
      " Read 6,600 tweets.\n",
      " Read 6,800 tweets.\n",
      " Read 7,000 tweets.\n",
      " Read 7,200 tweets.\n",
      " Read 7,400 tweets.\n",
      "DONE.\n",
      "      7552 tweets\n"
     ]
    }
   ],
   "source": [
    "import numpy as np\n",
    "\n",
    "# 모든 문장 토크나이징 하고 kewwords에 따라 분류하기\n",
    "input_ids  = []\n",
    "\n",
    "# 각 트윗의 토큰 개수 기록\n",
    "token_len = []\n",
    "\n",
    "print('Tokenizing Tweets...')\n",
    "\n",
    "# 각 트윗 마다...\n",
    "for tweet in train_df.text:\n",
    "    # 진행 상황\n",
    "    if ((len(input_ids) % 200) == 0):\n",
    "        print(' Read {:,} tweets.'.format(len(input_ids)))\n",
    "    \n",
    "    # encode will\n",
    "    # 1)트윗을 토크나이징하고, \n",
    "    # 2)[CLS]토큰을 시작 부분에, [SEP]토큰을 마지막 부분에 추가하고, \n",
    "    # 3)토큰을 해당 id에 매칭\n",
    "    encoded_sent = tokenizer.encode(\n",
    "        tweet, # Tweet to encode\n",
    "        add_special_tokens = True,  # add_special_tokens: [CLS]와 [SEP]추가'\n",
    "        # max_length = 512,  # Truncate all tweets\n",
    "        # return_tensors = 'pt'  # Return pytorch tensors.\n",
    "    ) \n",
    "    \n",
    "    # encoded된 트윗을 리스트에 넣기\n",
    "    input_ids.append(encoded_sent)\n",
    "    \n",
    "    # 각 트윗의 토큰 개수 기록\n",
    "    token_len.append(len(encoded_sent))\n",
    "\n",
    "print('DONE.')\n",
    "print('{:>10} tweets'.format(len(input_ids)))\n",
    "\n"
   ]
  },
  {
   "cell_type": "markdown",
   "id": "behind-expert",
   "metadata": {},
   "source": [
    "train_df에서 labels 추출한 뒤, 재난 관련 트윗과 재난 관련되지 않은 트윗의 분포 보기"
   ]
  },
  {
   "cell_type": "code",
   "execution_count": 26,
   "id": "developed-trade",
   "metadata": {},
   "outputs": [
    {
     "name": "stdout",
     "output_type": "stream",
     "text": [
      "  3,229 positive (is disaster tweet)\n",
      "  4,323 negative (not disaster tweet)\n"
     ]
    }
   ],
   "source": [
    "labels = train_df.target.to_numpy().astype(int)\n",
    "\n",
    "print('{:>7,} positive (is disaster tweet)'.format(np.sum(labels)))\n",
    "print('{:>7,} negative (not disaster tweet)'.format(len(labels) - np.sum(labels)))"
   ]
  },
  {
   "cell_type": "code",
   "execution_count": 27,
   "id": "promising-orlando",
   "metadata": {},
   "outputs": [
    {
     "name": "stdout",
     "output_type": "stream",
     "text": [
      "전체 tweets 중 토큰 최대 개수: 55, 최소 개수: 3, 중간값: 20\n"
     ]
    }
   ],
   "source": [
    "# 토큰나이징 된 train_df의 tweet들 중 가장 긴 tweet의 단어 개수와 가장 짧은 단어 개수 출력\n",
    "\n",
    "print('전체 tweets 중 토큰 최대 개수: {:>,}, 최소 개수: {:>,}, 중간값: {:.0f}'.format(max(token_len), min(token_len), np.median(token_len)))"
   ]
  },
  {
   "cell_type": "markdown",
   "id": "upper-charger",
   "metadata": {},
   "source": [
    "### 토큰 길이 분포에 따른 시각화"
   ]
  },
  {
   "cell_type": "code",
   "execution_count": 28,
   "id": "reverse-component",
   "metadata": {},
   "outputs": [
    {
     "data": {
      "image/png": "[encoded data removed]",
      "text/plain": [
       "<Figure size 720x360 with 1 Axes>"
      ]
     },
     "metadata": {},
     "output_type": "display_data"
    }
   ],
   "source": [
    "import matplotlib.pyplot as plt\n",
    "import seaborn as sns\n",
    "import numpy as np\n",
    "import plotly.graph_objects as go\n",
    "import plotly.express as px\n",
    "\n",
    "\n",
    "sns.set(style = 'darkgrid')\n",
    "\n",
    "# 플롯 크기랑 폰트 사이즈 키우기\n",
    "sns.set(font_scale = 1.5)\n",
    "plt.rcParams['figure.figsize'] = (10, 5)\n",
    "\n",
    "# 트윗 토큰 개수에 따른 시각화\n",
    "sns.histplot(token_len, kde = False)\n",
    "plt.title(\"Number of Tokens\")\n",
    "plt.xlabel('# of tokens')\n",
    "plt.ylabel('# of tweets')\n",
    "plt.show()"
   ]
  },
  {
   "cell_type": "markdown",
   "id": "corrected-naples",
   "metadata": {},
   "source": [
    "트윗의 길이와 재난 관련 트윗일 확률 간에 상관 관계 확인"
   ]
  },
  {
   "cell_type": "code",
   "execution_count": 29,
   "id": "peripheral-buyer",
   "metadata": {},
   "outputs": [
    {
     "name": "stdout",
     "output_type": "stream",
     "text": [
      "Among tweets that have over 30 tokens, 256(29.9%) are disaster tweets.\n",
      "Among overall tweets, 2,701(35.8%) are 'Disaster Tweets'.\n"
     ]
    }
   ],
   "source": [
    "num_pos = 0\n",
    "num_neg = 0\n",
    "num_pos_residual = 0\n",
    "\n",
    "for i, l in enumerate(token_len):\n",
    "    # 트윗의 개수가 30이상이라면(그래프 보고 대충 30~정도 토큰이면 긴 트윗에 속한다고 판단)\n",
    "    if l >= 30:\n",
    "        # 해당 긴 트윗이 재난 관련 트윗인지 아닌지 판단하여 개수 세기\n",
    "        if labels[l] == 1:\n",
    "            num_pos += 1\n",
    "        else:\n",
    "            num_neg += 1\n",
    "    else:\n",
    "        if labels[l] == 1:\n",
    "            num_pos_residual += 1\n",
    "            \n",
    "            \n",
    "# 결과 보고\n",
    "print(\"Among tweets that have over 30 tokens, {:,}({:.1%}) are disaster tweets.\".format(num_pos, num_pos/(num_pos+num_neg)))\n",
    "print(\"Among overall tweets, {:,}({:.1%}) are 'Disaster Tweets'.\".format(num_pos+num_pos_residual, (num_pos+num_pos_residual)/len(token_len)))"
   ]
  },
  {
   "cell_type": "markdown",
   "id": "single-brain",
   "metadata": {},
   "source": [
    "트윗의 길이와 재난 관련 트윗일 가능성 간의 상관관계가 크지 않다."
   ]
  },
  {
   "cell_type": "markdown",
   "id": "special-siemens",
   "metadata": {},
   "source": [
    "### 트윗들 padding하기"
   ]
  },
  {
   "cell_type": "code",
   "execution_count": 30,
   "id": "hired-laundry",
   "metadata": {},
   "outputs": [
    {
     "name": "stdout",
     "output_type": "stream",
     "text": [
      "\n",
      "Padding all tweets to 55 values...\n",
      "\n",
      "Padding Token: \"[PAD]\", ID: 0\n",
      "\n",
      "DONE.\n"
     ]
    }
   ],
   "source": [
    "### 트윗들 padding하기\n",
    "\n",
    "\n",
    "from tensorflow.keras.preprocessing.sequence import pad_sequences\n",
    "\n",
    "MAX_LEN = 55 #트윗당 최대 토큰 개수로 맞춰서 누락되는 토큰 아예 없애기\n",
    "\n",
    "print('\\nPadding all tweets to %d values...' % MAX_LEN)\n",
    "print('\\nPadding Token: \"{:}\", ID: {:}'.format(tokenizer.pad_token, tokenizer.pad_token_id))\n",
    "\n",
    "# input_ids에 담긴 트윗당 토큰들을 0으로 채워넣어 Max_len 크기로 패딩하기\n",
    "input_ids = pad_sequences(input_ids, maxlen = MAX_LEN, dtype = 'long', value = 0, truncating = 'post', padding = 'post')\n",
    "print('\\nDONE.')"
   ]
  },
  {
   "cell_type": "markdown",
   "id": "natural-sympathy",
   "metadata": {},
   "source": [
    "## Attention_Masks 만들기\n",
    "Attention_mast의 역할: 실제 의미가 있는 토큰들만 따로 저장"
   ]
  },
  {
   "cell_type": "code",
   "execution_count": 31,
   "id": "catholic-premium",
   "metadata": {},
   "outputs": [],
   "source": [
    "attention_masks = []\n",
    "\n",
    "# 각 트윗마다...\n",
    "for sent in input_ids:\n",
    "    # Attention Mask 만들기\n",
    "    #  - token_id가 0이라면, 패딩이다. 마스크값에 0을 주고,\n",
    "    #  - token_id가 >0이라면, 의미 있는 토큰이므로 마스크값에 1 주기!\n",
    "    att_mask = [int(token_id>0) for token_id in sent]\n",
    "\n",
    "    attention_masks.append(att_mask)"
   ]
  },
  {
   "cell_type": "markdown",
   "id": "virgin-capital",
   "metadata": {},
   "source": [
    "---"
   ]
  },
  {
   "cell_type": "markdown",
   "id": "altered-norwegian",
   "metadata": {},
   "source": [
    "학습용 데이터 90%와 검증용 데이터 10%로 나누기"
   ]
  },
  {
   "cell_type": "code",
   "execution_count": 32,
   "id": "outer-designation",
   "metadata": {},
   "outputs": [],
   "source": [
    "from sklearn.model_selection import train_test_split\n",
    "\n",
    "# 훈련 90% 검증 10%로 나누기\n",
    "train_inputs, validation_inputs, train_labels, validation_labels = train_test_split(input_ids, labels, random_state = 2018, test_size = 0.1)\n",
    "\n",
    "# 마스크도 나누어 주기\n",
    "train_masks, validation_masks, _, _ = train_test_split(attention_masks, labels, random_state = 2018, test_size = 0.1)"
   ]
  },
  {
   "cell_type": "markdown",
   "id": "armed-imaging",
   "metadata": {},
   "source": [
    "BERT 모델은 넘파이보다 파이토치 텐서를 입력값으로 받으므로 파이토치로 변환"
   ]
  },
  {
   "cell_type": "code",
   "execution_count": 33,
   "id": "naughty-injection",
   "metadata": {},
   "outputs": [],
   "source": [
    "train_inputs = torch.tensor(train_inputs)\n",
    "validation_inputs = torch.tensor(validation_inputs)\n",
    "\n",
    "train_labels = torch.tensor(train_labels)\n",
    "validation_labels = torch.tensor(validation_labels)\n",
    "\n",
    "train_masks = torch.tensor(train_masks)\n",
    "validation_masks = torch.tensor(validation_masks)"
   ]
  },
  {
   "cell_type": "markdown",
   "id": "composed-princess",
   "metadata": {},
   "source": [
    "DataLoader class로 iterator만들다. For loop으로 iterate할 때와는 달리, 전체 데이터셋이 메모리에 로드될 필요가 없기에 이렇게 입력값을 먹이는게 메모리 절약에 효과적"
   ]
  },
  {
   "cell_type": "code",
   "execution_count": 34,
   "id": "choice-humanity",
   "metadata": {},
   "outputs": [],
   "source": [
    "from torch.utils.data import TensorDataset, DataLoader, RandomSampler, SequentialSampler\n",
    "\n",
    "# DataLoader는 훈련을 위해 배치 사이즈를 알아야 한다.\n",
    "# 특정 과제를 위해 BERT를 fine-tuning할 때 배치 사이즈 16 혹은 32가 권장된다. \n",
    "batch_size = 32\n",
    "\n",
    "# training_set을 위한 Data_loader 만들기\n",
    "train_data= TensorDataset(train_inputs, train_masks, train_labels)\n",
    "train_sampler = RandomSampler(train_data)\n",
    "train_dataloader = DataLoader(train_data, sampler = train_sampler, batch_size = batch_size)\n",
    "\n",
    "# validation_set을 위한 Data_Loader 만들기\n",
    "validation_data = TensorDataset(validation_inputs, validation_masks, validation_labels)\n",
    "validation_sampler = SequentialSampler(validation_data)\n",
    "validation_dataloader = DataLoader(validation_data, sampler = validation_sampler, batch_size = batch_size)"
   ]
  },
  {
   "cell_type": "markdown",
   "id": "emotional-lebanon",
   "metadata": {},
   "source": [
    "# Bert Fine-Tuning\n",
    ": 사전 훈련된 BERT모델이 현재의 분류 과제를 잘 수행할 수 있도록 현재 input_data로 훈련시키는 것"
   ]
  },
  {
   "cell_type": "markdown",
   "id": "driven-tender",
   "metadata": {},
   "source": [
    "### 분류 모델 학습시키기"
   ]
  },
  {
   "cell_type": "markdown",
   "id": "guilty-morgan",
   "metadata": {},
   "source": [
    "이제 우리의 input_data들이 알맞은 형태로 정리되었으니 BERT모델을 Fine-Tuning할 차례이다."
   ]
  },
  {
   "cell_type": "markdown",
   "id": "macro-certification",
   "metadata": {},
   "source": [
    "#### BertForSequenceClassification"
   ]
  },
  {
   "cell_type": "markdown",
   "id": "binary-consultancy",
   "metadata": {},
   "source": [
    "pretrained 된 BERT 모델을 우리가 원하는 분류 결과를 내놓도록 하기 위해 수정한다. 그런 다음 BERT 모델을 기존에 준비한 Input_Data로 훈련시켜 모델 전체가 우리의 과제에 맞도록 조정한다."
   ]
  },
  {
   "cell_type": "markdown",
   "id": "noticed-discrimination",
   "metadata": {},
   "source": [
    "#### BERT모델 로드"
   ]
  },
  {
   "cell_type": "code",
   "execution_count": 35,
   "id": "annual-howard",
   "metadata": {},
   "outputs": [
    {
     "name": "stderr",
     "output_type": "stream",
     "text": [
      "Some weights of the model checkpoint at bert-base-uncased were not used when initializing BertForSequenceClassification: ['cls.predictions.bias', 'cls.predictions.transform.dense.weight', 'cls.predictions.transform.dense.bias', 'cls.predictions.decoder.weight', 'cls.seq_relationship.weight', 'cls.seq_relationship.bias', 'cls.predictions.transform.LayerNorm.weight', 'cls.predictions.transform.LayerNorm.bias']\n",
      "- This IS expected if you are initializing BertForSequenceClassification from the checkpoint of a model trained on another task or with another architecture (e.g. initializing a BertForSequenceClassification model from a BertForPreTraining model).\n",
      "- This IS NOT expected if you are initializing BertForSequenceClassification from the checkpoint of a model that you expect to be exactly identical (initializing a BertForSequenceClassification model from a BertForSequenceClassification model).\n",
      "Some weights of BertForSequenceClassification were not initialized from the model checkpoint at bert-base-uncased and are newly initialized: ['classifier.weight', 'classifier.bias']\n",
      "You should probably TRAIN this model on a down-stream task to be able to use it for predictions and inference.\n"
     ]
    }
   ],
   "source": [
    "from transformers import BertForSequenceClassification, AdamW, BertConfig\n",
    "\n",
    "# BertForSequenceClassification(pretrained BERT model with a single linear classificationmodel on top) 로드\n",
    "model = BertForSequenceClassification.from_pretrained(\n",
    "    'bert-base-uncased', # lowercase letters만 있는 12 layers BERT 모델 버전\n",
    "    num_labels = 2, #이진 분류이므로 2. 다중 분류에서는 숫자 늘리면 됨.\n",
    "    output_attentions = False, # 모델이 attentions weights를 반환하는지 여부\n",
    "    output_hidden_states = False # 모델이 모든 hidden states를 반환하는지 여부\n",
    ")\n",
    "\n",
    "# model.cuda()  #GPU로 모델 돌릴거라고 말해줌"
   ]
  },
  {
   "cell_type": "markdown",
   "id": "streaming-heading",
   "metadata": {},
   "source": [
    "#### Optimizer & Learning Rate Scheduler"
   ]
  },
  {
   "cell_type": "markdown",
   "id": "promotional-geography",
   "metadata": {},
   "source": [
    "모델이 로드되었으니 하이퍼파라미터를 설정.\\\n",
    "Fine-Tuning에는 다음 하이퍼 파라미터 값들이 권장됨\n",
    "* Batch_size: 16, 32\n",
    "* Learning_rate(Adam): 5e-5, 3e-5, 2e-5\n",
    "* Number of epochs: 2,3,4"
   ]
  },
  {
   "cell_type": "markdown",
   "id": "detected-election",
   "metadata": {},
   "source": [
    "epsilon parameter는 모델 훈련 중 zero-division error를 막기 위한 수.\\\n",
    "eps = 1e-8로 아주 작은 값이다."
   ]
  },
  {
   "cell_type": "code",
   "execution_count": 36,
   "id": "quarterly-legislature",
   "metadata": {},
   "outputs": [],
   "source": [
    "# AdamW는 huggingface library(<->pytorch)의 클래스다. W는 'Weight Decay Fix'의미하는 듯?\n",
    "optimizer = AdamW(model.parameters(), \n",
    "                  lr = 2e-5, \n",
    "                  eps = 1e-8\n",
    "                 )"
   ]
  },
  {
   "attachments": {
    "c012adc1-2245-436f-90d2-d823b0062505.png": {
     "image/png": "[encoded data removed]"
    }
   },
   "cell_type": "markdown",
   "id": "permanent-montana",
   "metadata": {},
   "source": [
    "![image.png](attachment:c012adc1-2245-436f-90d2-d823b0062505.png)"
   ]
  },
  {
   "cell_type": "code",
   "execution_count": 37,
   "id": "selected-jersey",
   "metadata": {},
   "outputs": [],
   "source": [
    "from transformers import get_linear_schedule_with_warmup\n",
    "\n",
    "epochs = 4\n",
    "\n",
    "# Total number of training steps = # of batchs(전체 데이터셋이 몇개의 batch로 구성되는지) * # of epochs\n",
    "total_steps = len(train_dataloader)* epochs\n",
    "\n",
    "# learning rate scheduler 만들기\n",
    "scheduler = get_linear_schedule_with_warmup(optimizer, \n",
    "                                            num_warmup_steps = 0, # run_glue.py의 기본값\n",
    "                                            num_training_steps = total_steps)"
   ]
  },
  {
   "cell_type": "markdown",
   "id": "higher-omaha",
   "metadata": {},
   "source": [
    "#### 훈련 루프"
   ]
  },
  {
   "cell_type": "markdown",
   "id": "subtle-potential",
   "metadata": {},
   "source": [
    "루프가 한 번씩 돌때마다, 모델이 전체 훈련 데이터를 가지고 학습하고 남겨놓은 검증 데이터를 통해 정확도 계산"
   ]
  },
  {
   "cell_type": "markdown",
   "id": "colored-lightweight",
   "metadata": {},
   "source": [
    "정확도 측정 위한 helper 함수 정의"
   ]
  },
  {
   "cell_type": "code",
   "execution_count": 38,
   "id": "oriental-telephone",
   "metadata": {},
   "outputs": [],
   "source": [
    "import numpy as np\n",
    "\n",
    "# labels와 예측치 비교로 정확도를 계산하는 함수 \n",
    "def flat_accuracy(preds, labels):\n",
    "    pred_flat = np.argmax(preds, axis = 1).flatten()\n",
    "    labels_flat = labels.flatten()\n",
    "    return np.sum(pred_flat == labels_flat) / len(lebels_flat)"
   ]
  },
  {
   "cell_type": "markdown",
   "id": "corrected-investigator",
   "metadata": {},
   "source": [
    "경과한 시간을 측정하기 위한 helper function"
   ]
  },
  {
   "cell_type": "code",
   "execution_count": 39,
   "id": "flying-neighborhood",
   "metadata": {},
   "outputs": [],
   "source": [
    "import time\n",
    "import datetime\n",
    "\n",
    "def format_time(elapsed):\n",
    "    # 근접한 초로 반올림하기\n",
    "    elapsed_rounded = int(round(elapsed))\n",
    "    # hh:mm:ss 형태로 반환\n",
    "    return str(datetime.timedelta(seconds = elapsed_rounded))"
   ]
  },
  {
   "cell_type": "markdown",
   "id": "worthy-demonstration",
   "metadata": {},
   "source": [
    "#### Training 시작!!!!!"
   ]
  },
  {
   "cell_type": "code",
   "execution_count": 40,
   "id": "tested-charge",
   "metadata": {},
   "outputs": [],
   "source": [
    "device = torch.device('cpu')"
   ]
  },
  {
   "cell_type": "code",
   "execution_count": null,
   "id": "registered-philippines",
   "metadata": {},
   "outputs": [
    {
     "name": "stdout",
     "output_type": "stream",
     "text": [
      "\n",
      "=== Epochs 7551 / 4 ===\n",
      "Training...\n"
     ]
    },
    {
     "name": "stderr",
     "output_type": "stream",
     "text": [
      "C:\\Users\\SGI\\anaconda3\\lib\\site-packages\\torch\\autograd\\__init__.py:132: UserWarning: CUDA initialization: Found no NVIDIA driver on your system. Please check that you have an NVIDIA GPU and installed a driver from http://www.nvidia.com/Download/index.aspx (Triggered internally at  ..\\c10\\cuda\\CUDAFunctions.cpp:100.)\n",
      "  allow_unreachable=True)  # allow_unreachable flag\n"
     ]
    }
   ],
   "source": [
    "import random\n",
    "\n",
    "seed_val = 42\n",
    "\n",
    "random.seed(seed_val)\n",
    "np.random.seed(seed_val)\n",
    "torch.manual_seed(seed_val)\n",
    "# torch.cuda.manual_seed_all(seed_val)\n",
    "\n",
    "# 매 에폭마다 평균 loss 저장(나중에 plot으로 시각화 할거임)\n",
    "loss_values = []\n",
    "\n",
    "for epoch_i in range(0, epochs):\n",
    "    \n",
    "    # ========================================\n",
    "    #                 Training\n",
    "    # ========================================\n",
    "    # Training set 전체 한 번 쭈욱 학습\n",
    "    print(\"\")\n",
    "    print('=== Epochs {:} / {:} ==='.format(epoch_i+i, epochs))\n",
    "    print(\"Training...\")\n",
    "    \n",
    "    # 에폭당 훈련 시간이 얼마나 걸리는지 측정하기 위해 훈련 시작 전 시간 측정\n",
    "    t0 = time.time()\n",
    "    \n",
    "    # 에폭당 훈련 들어가기 전 loss값 초기화\n",
    "    total_loss = 0\n",
    "    \n",
    "    # 모델을 training 모드로 설정(아직 훈련 시작한 것은 아님)\n",
    "    model.train()\n",
    "    \n",
    "    for step, batch in enumerate(train_dataloader):  # 훈련 데이터의 각 배치당\n",
    "        \n",
    "        # 배치 100개가 학습될 때마다 진행 상황 표시\n",
    "        if step % 100 == 0 and not step == 0:\n",
    "            elapsed = format_time(time.time() - t0)\n",
    "\n",
    "            # 진행 상황 보고(전체 배치 중 몇 개 배치까지 학습했는지)\n",
    "            print(' Batch  {:>} of {:>5,}. Elapsed: {:}.'.format(step, len(train_dataloader), elapsed))\n",
    "        \n",
    "        # DataLoader에서 training set unpack: unpack하며 to()매서드 통해 tensor들 cpu에 복사\n",
    "        # bathc는 3개의 pytorch tensors를 포함하고 있다:\n",
    "        # [0]: input_ids\n",
    "        # [1]: attention_masks\n",
    "        # [2]: labels\n",
    "        b_input_ids = batch[0].to(device).long()\n",
    "        b_input_mask = batch[1].to(device).long()\n",
    "        b_labels = batch[2].to(device).long()\n",
    "        \n",
    "        # 역전파하기 전 이전에 계산된 gradients들 없애주기(단, RNN할 때는 이전 기울기 남겨두어야)\n",
    "        model.zero_grad()\n",
    "        \n",
    "        # 순전파 실행: 해당 훈련 배치에 대한 모델의 훈련 평가\n",
    "        # labels(train_df의 target값)를 제공해 주었기 때문에 모델 실행으로 오류값이 반환됨\n",
    "        outputs = model(b_input_ids,\n",
    "                        token_type_ids = None, \n",
    "                        attention_mask = b_input_mask,\n",
    "                        labels = b_labels\n",
    "                       )\n",
    "        # model의 호출 결과 반환값은 튜플의 형태를 띠므로 loss값을 ouputs에서 끌어내 주어야 한다.\n",
    "        loss = outputs[0]\n",
    "        \n",
    "        # 모든 batch들의 training loss 누적 합산하여 마지막에 average loss구할 수 있도록 하기\n",
    "        # loss는 한 개의 값을 가지고 있는 tensor이다. .item()매서드 통해서 tensor에서 python value 꺼내와주기\n",
    "        total_loss += loss.item()\n",
    "        \n",
    "        # gradient계산 위해 역전파 수행\n",
    "        loss.backward()\n",
    "        \n",
    "        # gradients의 표준을 1로 고정(clip)시켜 'Exploding gradients'문제 예방\n",
    "        torch.nn.utils.clip_grad_norm_(model.parameters(), 1.0)\n",
    "        \n",
    "        # parameters update하고 계산된 기울기를 이용해 다음 스텝으로 나아감\n",
    "        # 여기서 optimizer는 업데이트 규칙(파라미터가 그들의 기울기, 학습률 등을 근거로 어떻게 수정될 것인가)을 정해줌.\n",
    "        optimizer.step()\n",
    "        \n",
    "        # 학슬률 업데이트\n",
    "        scheduler.step()\n",
    "    \n",
    "    # training data 전체에 걸친 평균 loss 계산\n",
    "    avg_train_loss = total_loss/ len(train_dataloader)\n",
    "    \n",
    "    # 학습 곡선 그리기 위해 loss값 저장\n",
    "    loss_values.append(avg_train_loss)\n",
    "\n",
    "    print(\"\")\n",
    "    print(\" Average training loss: {:.2f}\".format(avg_train_loss))\n",
    "    # 한 에폭 학습당 걸린 시간 출력\n",
    "    print(\" Training Epoch took: {:}\".format(format_time(time.time() - t0)))"
   ]
  }
 ],
 "metadata": {
  "kernelspec": {
   "display_name": "Python 3",
   "language": "python",
   "name": "python3"
  },
  "language_info": {
   "codemirror_mode": {
    "name": "ipython",
    "version": 3
   },
   "file_extension": ".py",
   "mimetype": "text/x-python",
   "name": "python",
   "nbconvert_exporter": "python",
   "pygments_lexer": "ipython3",
   "version": "3.7.10"
  },
  "toc-autonumbering": true
 },
 "nbformat": 4,
 "nbformat_minor": 5
}

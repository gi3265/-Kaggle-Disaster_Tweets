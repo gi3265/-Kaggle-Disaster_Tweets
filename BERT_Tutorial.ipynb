{
 "cells": [
  {
   "cell_type": "markdown",
   "id": "announced-flood",
   "metadata": {},
   "source": [
    "https://www.youtube.com/watch?v=_eSGWNqKeeY"
   ]
  },
  {
   "cell_type": "markdown",
   "id": "excellent-academy",
   "metadata": {},
   "source": [
    "# 간단한 EDA!"
   ]
  },
  {
   "cell_type": "code",
   "execution_count": 30,
   "id": "productive-parts",
   "metadata": {},
   "outputs": [],
   "source": [
    "import numpy as np # linear algebra\n",
    "import pandas as pd # data processing, CSV file I/O (e.g. pd.read_csv)\n",
    "from sklearn import feature_extraction, linear_model, model_selection, preprocessing\n",
    "import re\n",
    "import torch"
   ]
  },
  {
   "cell_type": "code",
   "execution_count": 2,
   "id": "opposed-scheme",
   "metadata": {},
   "outputs": [
    {
     "name": "stdout",
     "output_type": "stream",
     "text": [
      " Done.\n"
     ]
    }
   ],
   "source": [
    "path = \"./data\"\n",
    "train_df = pd.read_csv(path + \"/train.csv\")\n",
    "test_df = pd.read_csv(path + \"/test.csv\")\n",
    "print(' Done.')"
   ]
  },
  {
   "cell_type": "code",
   "execution_count": 3,
   "id": "twenty-pattern",
   "metadata": {},
   "outputs": [
    {
     "data": {
      "text/html": [
       "<div>\n",
       "<style scoped>\n",
       "    .dataframe tbody tr th:only-of-type {\n",
       "        vertical-align: middle;\n",
       "    }\n",
       "\n",
       "    .dataframe tbody tr th {\n",
       "        vertical-align: top;\n",
       "    }\n",
       "\n",
       "    .dataframe thead th {\n",
       "        text-align: right;\n",
       "    }\n",
       "</style>\n",
       "<table border=\"1\" class=\"dataframe\">\n",
       "  <thead>\n",
       "    <tr style=\"text-align: right;\">\n",
       "      <th></th>\n",
       "      <th>id</th>\n",
       "      <th>keyword</th>\n",
       "      <th>location</th>\n",
       "      <th>text</th>\n",
       "      <th>target</th>\n",
       "    </tr>\n",
       "  </thead>\n",
       "  <tbody>\n",
       "    <tr>\n",
       "      <th>0</th>\n",
       "      <td>1</td>\n",
       "      <td>NaN</td>\n",
       "      <td>NaN</td>\n",
       "      <td>Our Deeds are the Reason of this #earthquake M...</td>\n",
       "      <td>1</td>\n",
       "    </tr>\n",
       "    <tr>\n",
       "      <th>1</th>\n",
       "      <td>4</td>\n",
       "      <td>NaN</td>\n",
       "      <td>NaN</td>\n",
       "      <td>Forest fire near La Ronge Sask. Canada</td>\n",
       "      <td>1</td>\n",
       "    </tr>\n",
       "    <tr>\n",
       "      <th>2</th>\n",
       "      <td>5</td>\n",
       "      <td>NaN</td>\n",
       "      <td>NaN</td>\n",
       "      <td>All residents asked to 'shelter in place' are ...</td>\n",
       "      <td>1</td>\n",
       "    </tr>\n",
       "    <tr>\n",
       "      <th>3</th>\n",
       "      <td>6</td>\n",
       "      <td>NaN</td>\n",
       "      <td>NaN</td>\n",
       "      <td>13,000 people receive #wildfires evacuation or...</td>\n",
       "      <td>1</td>\n",
       "    </tr>\n",
       "    <tr>\n",
       "      <th>4</th>\n",
       "      <td>7</td>\n",
       "      <td>NaN</td>\n",
       "      <td>NaN</td>\n",
       "      <td>Just got sent this photo from Ruby #Alaska as ...</td>\n",
       "      <td>1</td>\n",
       "    </tr>\n",
       "  </tbody>\n",
       "</table>\n",
       "</div>"
      ],
      "text/plain": [
       "   id keyword location                                               text  \\\n",
       "0   1     NaN      NaN  Our Deeds are the Reason of this #earthquake M...   \n",
       "1   4     NaN      NaN             Forest fire near La Ronge Sask. Canada   \n",
       "2   5     NaN      NaN  All residents asked to 'shelter in place' are ...   \n",
       "3   6     NaN      NaN  13,000 people receive #wildfires evacuation or...   \n",
       "4   7     NaN      NaN  Just got sent this photo from Ruby #Alaska as ...   \n",
       "\n",
       "   target  \n",
       "0       1  \n",
       "1       1  \n",
       "2       1  \n",
       "3       1  \n",
       "4       1  "
      ]
     },
     "execution_count": 3,
     "metadata": {},
     "output_type": "execute_result"
    }
   ],
   "source": [
    "# Display the first five rows of the table.\n",
    "train_df.head()"
   ]
  },
  {
   "cell_type": "markdown",
   "id": "prostate-receiver",
   "metadata": {},
   "source": [
    "### 불용어 제거하여 corpus만들기"
   ]
  },
  {
   "cell_type": "code",
   "execution_count": 4,
   "id": "domestic-character",
   "metadata": {},
   "outputs": [],
   "source": [
    "# 불용어 제거: @를 포함한 태그 문구 삭제, 링크 주소 삭제\n",
    "docs = [[word for word in sent if not any('http')] for sent in train_df.text]"
   ]
  },
  {
   "cell_type": "code",
   "execution_count": 5,
   "id": "golden-linux",
   "metadata": {
    "id": "8cxBJMZ0aCyH"
   },
   "outputs": [],
   "source": [
    "#부호를 제거해주는 함수\n",
    "def alpha_num(text):\n",
    "    return re.sub(r'[^A-Za-z0-9 ]', '', text)"
   ]
  },
  {
   "cell_type": "code",
   "execution_count": 6,
   "id": "interstate-torture",
   "metadata": {
    "id": "7erMaZw5aCyH"
   },
   "outputs": [],
   "source": [
    "# 불용어 제거해주는 함수\n",
    "def remove_stopwords(text):\n",
    "    final_text = []\n",
    "    for i in text.split():\n",
    "        if i.strip().lower()[:4] not in stopwords:\n",
    "            final_text.append(i.strip())\n",
    "    return \" \".join(final_text)\n",
    "\n",
    "# 불용어\n",
    "stopwords = ['http']"
   ]
  },
  {
   "cell_type": "code",
   "execution_count": 7,
   "id": "renewable-berkeley",
   "metadata": {
    "id": "qlzZ5li-aCyI"
   },
   "outputs": [],
   "source": [
    "#전처리 적용(부호 제거해 주고 소문자로 바꿔주고 불용어(홈페이지 주소)도 제거)\n",
    "train_df['text'] = train_df['text'].apply(alpha_num)\n",
    "train_df['text'] = train_df['text'].str.lower()\n",
    "train_df['text'] = train_df['text'].apply(remove_stopwords)"
   ]
  },
  {
   "cell_type": "code",
   "execution_count": 8,
   "id": "saving-geography",
   "metadata": {},
   "outputs": [
    {
     "data": {
      "text/plain": [
       "['the latest more homes razed by northern california wildfire abc news']"
      ]
     },
     "execution_count": 8,
     "metadata": {},
     "output_type": "execute_result"
    }
   ],
   "source": [
    "[i for i in train_df.tail(1).text]"
   ]
  },
  {
   "cell_type": "markdown",
   "id": "legitimate-ukraine",
   "metadata": {},
   "source": [
    "### 누락값 처리"
   ]
  },
  {
   "cell_type": "code",
   "execution_count": 9,
   "id": "dimensional-aside",
   "metadata": {},
   "outputs": [
    {
     "name": "stdout",
     "output_type": "stream",
     "text": [
      "<class 'pandas.core.frame.DataFrame'>\n",
      "RangeIndex: 7613 entries, 0 to 7612\n",
      "Data columns (total 5 columns):\n",
      " #   Column    Non-Null Count  Dtype \n",
      "---  ------    --------------  ----- \n",
      " 0   id        7613 non-null   int64 \n",
      " 1   keyword   7552 non-null   object\n",
      " 2   location  5080 non-null   object\n",
      " 3   text      7613 non-null   object\n",
      " 4   target    7613 non-null   int64 \n",
      "dtypes: int64(2), object(3)\n",
      "memory usage: 297.5+ KB\n"
     ]
    }
   ],
   "source": [
    "train_df.info()"
   ]
  },
  {
   "cell_type": "code",
   "execution_count": 10,
   "id": "inappropriate-logic",
   "metadata": {},
   "outputs": [
    {
     "data": {
      "text/plain": [
       "61"
      ]
     },
     "execution_count": 10,
     "metadata": {},
     "output_type": "execute_result"
    }
   ],
   "source": [
    "# 누락값의 개수\n",
    "np.count_nonzero(train_df.keyword.isnull())"
   ]
  },
  {
   "cell_type": "code",
   "execution_count": 11,
   "id": "sporting-sender",
   "metadata": {},
   "outputs": [
    {
     "data": {
      "text/plain": [
       "7552"
      ]
     },
     "execution_count": 11,
     "metadata": {},
     "output_type": "execute_result"
    }
   ],
   "source": [
    "# 누락값이 아닌 자료 개수\n",
    "train_df.keyword.count()"
   ]
  },
  {
   "cell_type": "code",
   "execution_count": 12,
   "id": "empty-corner",
   "metadata": {},
   "outputs": [
    {
     "data": {
      "text/plain": [
       "(7552, 5)"
      ]
     },
     "execution_count": 12,
     "metadata": {},
     "output_type": "execute_result"
    }
   ],
   "source": [
    "# keyword 없는 행이 전체 자료들에서 차지하는 비중이 작으므로 삭제\n",
    "train_df = train_df[train_df['keyword'].notna()]\n",
    "train_df.shape"
   ]
  },
  {
   "cell_type": "markdown",
   "id": "incorporate-bookmark",
   "metadata": {},
   "source": [
    "단어별 재난 연관률"
   ]
  },
  {
   "cell_type": "code",
   "execution_count": 13,
   "id": "dress-korea",
   "metadata": {},
   "outputs": [],
   "source": [
    "labels = pd.DataFrame(train_df.groupby('keyword')['target'].mean())"
   ]
  },
  {
   "cell_type": "code",
   "execution_count": 14,
   "id": "concrete-clothing",
   "metadata": {},
   "outputs": [
    {
     "data": {
      "text/html": [
       "<div>\n",
       "<style scoped>\n",
       "    .dataframe tbody tr th:only-of-type {\n",
       "        vertical-align: middle;\n",
       "    }\n",
       "\n",
       "    .dataframe tbody tr th {\n",
       "        vertical-align: top;\n",
       "    }\n",
       "\n",
       "    .dataframe thead th {\n",
       "        text-align: right;\n",
       "    }\n",
       "</style>\n",
       "<table border=\"1\" class=\"dataframe\">\n",
       "  <thead>\n",
       "    <tr style=\"text-align: right;\">\n",
       "      <th></th>\n",
       "      <th>target</th>\n",
       "    </tr>\n",
       "    <tr>\n",
       "      <th>keyword</th>\n",
       "      <th></th>\n",
       "    </tr>\n",
       "  </thead>\n",
       "  <tbody>\n",
       "    <tr>\n",
       "      <th>debris</th>\n",
       "      <td>1.000000</td>\n",
       "    </tr>\n",
       "    <tr>\n",
       "      <th>wreckage</th>\n",
       "      <td>1.000000</td>\n",
       "    </tr>\n",
       "    <tr>\n",
       "      <th>derailment</th>\n",
       "      <td>1.000000</td>\n",
       "    </tr>\n",
       "    <tr>\n",
       "      <th>outbreak</th>\n",
       "      <td>0.975000</td>\n",
       "    </tr>\n",
       "    <tr>\n",
       "      <th>oil%20spill</th>\n",
       "      <td>0.973684</td>\n",
       "    </tr>\n",
       "  </tbody>\n",
       "</table>\n",
       "</div>"
      ],
      "text/plain": [
       "               target\n",
       "keyword              \n",
       "debris       1.000000\n",
       "wreckage     1.000000\n",
       "derailment   1.000000\n",
       "outbreak     0.975000\n",
       "oil%20spill  0.973684"
      ]
     },
     "execution_count": 14,
     "metadata": {},
     "output_type": "execute_result"
    }
   ],
   "source": [
    "labels = labels.sort_values(by='target', ascending=False)\n",
    "labels.head()"
   ]
  },
  {
   "cell_type": "code",
   "execution_count": 15,
   "id": "announced-immigration",
   "metadata": {},
   "outputs": [
    {
     "data": {
      "text/plain": [
       "(221, 1)"
      ]
     },
     "execution_count": 15,
     "metadata": {},
     "output_type": "execute_result"
    }
   ],
   "source": [
    "labels.shape"
   ]
  },
  {
   "cell_type": "markdown",
   "id": "indirect-investment",
   "metadata": {},
   "source": [
    "해당 단어 등장 대비 실제 재해 트윗인 비율을 기준으로 221개의 keyword 중, 상위 5개 단어를 뽑아봄: 특히 debris, wreckage, derailment 이 3개 단어는 등장했을 경우 모두 재난 상황을 지칭한 경우였음"
   ]
  },
  {
   "cell_type": "markdown",
   "id": "unique-velvet",
   "metadata": {},
   "source": [
    "#### 재난 상황 트윗 임의로 10개 뽑아 관찰"
   ]
  },
  {
   "cell_type": "code",
   "execution_count": 16,
   "id": "stretch-merchant",
   "metadata": {},
   "outputs": [
    {
     "name": "stdout",
     "output_type": "stream",
     "text": [
      "\n",
      "where are the protests the riots the burning buildings how come you dont see any\n",
      "of that crap happening when\n",
      "\n",
      "\n",
      "families to sue over legionnaires more than 40 families affected by the fatal\n",
      "outbreak of legionnaires disea\n",
      "\n",
      "\n",
      "1 million bail for man accused of shooting at fife police aug 5 816 pm et\n",
      "\n",
      "\n",
      "christian attacked by muslims at the temple mount after waving israeli flag via\n",
      "pamela geller\n",
      "\n",
      "\n",
      "families to sue over legionnaires more than 40 families affected by the fatal\n",
      "outbreak of legio muhamadjabal\n",
      "\n",
      "\n",
      "fatality\n",
      "\n",
      "\n",
      "still rioting in a couple of hours left until i have to be up for class\n",
      "\n",
      "\n",
      "more homes razed by northern calif wildfire sandiego\n",
      "\n",
      "\n",
      "lightning causes six new fires on vancouverisland\n",
      "\n",
      "\n",
      "kindermorgan gas explosion\n",
      "\n"
     ]
    }
   ],
   "source": [
    "import textwrap\n",
    "import random\n",
    "\n",
    "# Wrap text to 80 characters\n",
    "wrapper = textwrap.TextWrapper(width = 80)\n",
    "\n",
    "# filter to just the 'Disaster' comments\n",
    "disaster_examples = train_df.query('target == 1')['text']\n",
    "\n",
    "# Randomly choose some examples\n",
    "for i in range(10):\n",
    "    j = random.choice(disaster_examples.index)\n",
    "    print('')\n",
    "    print(wrapper.fill(disaster_examples[j]))\n",
    "    print('')"
   ]
  },
  {
   "cell_type": "code",
   "execution_count": 17,
   "id": "noticed-committee",
   "metadata": {},
   "outputs": [
    {
     "name": "stdout",
     "output_type": "stream",
     "text": [
      "7,552개의 트윗 중 3,229개는 재난 관련 트윗임(42.76%).\n"
     ]
    }
   ],
   "source": [
    "# What percentage of the comments are disaster tweets?\n",
    "total_tweets = len(train_df)\n",
    "num_disasters = len(train_df.query('target == 1'))\n",
    "\n",
    "print('{:,}개의 트윗 중 {:,}개는 재난 관련 트윗임({:.2%}).'.format(total_tweets, num_disasters, num_disasters/total_tweets))"
   ]
  },
  {
   "cell_type": "markdown",
   "id": "moving-davis",
   "metadata": {},
   "source": [
    "keyword == NaN인 행들을 날린 train_df는 재난 트윗과 재난이 아닌 트윗이 꽤 균형 있게 존재한다."
   ]
  },
  {
   "cell_type": "markdown",
   "id": "expanded-device",
   "metadata": {},
   "source": [
    "다양한 python format 형식들: https://www.w3schools.com/python/ref_string_format.asp"
   ]
  },
  {
   "cell_type": "code",
   "execution_count": 18,
   "id": "european-documentary",
   "metadata": {},
   "outputs": [
    {
     "name": "stdout",
     "output_type": "stream",
     "text": [
      "전체 tweets 중 최대 길이: 143, 최소 길이 5 \n",
      "재해 tweets 중 최대 길이: 8, 최소 길이 2\n"
     ]
    }
   ],
   "source": [
    "# 전처리된 train_df의 text들 중 가장 긴 tweet의 단어 개수와 가장 짧은 단어 개수 출력\n",
    "total_mx = max([len(length) for length in train_df.text])\n",
    "total_mn = min([len(length) for length in train_df.text])\n",
    "disaster_mx = max([len(length) for length in train_df.query('target == 1')])\n",
    "disaster_mn = min([len(length) for length in train_df.query('target == 1')])\n",
    "\n",
    "print('전체 tweets 중 최대 길이: {:>,}, 최소 길이 {:>,} \\n재해 tweets 중 최대 길이: {}, 최소 길이 {}'.format(total_mx, total_mn, disaster_mx, disaster_mn))"
   ]
  },
  {
   "cell_type": "markdown",
   "id": "warming-coalition",
   "metadata": {},
   "source": [
    "# BERT Input Length Limitation"
   ]
  },
  {
   "cell_type": "code",
   "execution_count": 19,
   "id": "agreed-visibility",
   "metadata": {},
   "outputs": [
    {
     "name": "stdout",
     "output_type": "stream",
     "text": [
      "Load Bert_Tokenizer...\n"
     ]
    },
    {
     "data": {
      "application/vnd.jupyter.widget-view+json": {
       "model_id": "4eb88b0d490d4c088108dab743742e82",
       "version_major": 2,
       "version_minor": 0
      },
      "text/plain": [
       "Downloading:   0%|          | 0.00/232k [00:00<?, ?B/s]"
      ]
     },
     "metadata": {},
     "output_type": "display_data"
    },
    {
     "data": {
      "application/vnd.jupyter.widget-view+json": {
       "model_id": "781c46cd0a80434cb93f1d5e7d0b2cef",
       "version_major": 2,
       "version_minor": 0
      },
      "text/plain": [
       "Downloading:   0%|          | 0.00/28.0 [00:00<?, ?B/s]"
      ]
     },
     "metadata": {},
     "output_type": "display_data"
    },
    {
     "data": {
      "application/vnd.jupyter.widget-view+json": {
       "model_id": "e0b54dda146844aab5023da0dd72bd2c",
       "version_major": 2,
       "version_minor": 0
      },
      "text/plain": [
       "Downloading:   0%|          | 0.00/466k [00:00<?, ?B/s]"
      ]
     },
     "metadata": {},
     "output_type": "display_data"
    }
   ],
   "source": [
    "from transformers import BertTokenizer\n",
    "\n",
    "print(\"Load Bert_Tokenizer...\")\n",
    "tokenizer = BertTokenizer.from_pretrained('bert-base-uncased', do_lower_case = True)"
   ]
  },
  {
   "cell_type": "markdown",
   "id": "executed-insertion",
   "metadata": {},
   "source": [
    "BertTokenizer이 어떻게 작동되는지 살펴보기"
   ]
  },
  {
   "cell_type": "code",
   "execution_count": 20,
   "id": "adverse-frequency",
   "metadata": {},
   "outputs": [
    {
     "name": "stdout",
     "output_type": "stream",
     "text": [
      "train_df의 첫 번째 text에는 7개의 WordPiece Tokens를 가지고 있다\n",
      "\n",
      "Original Text:\n",
      "\n",
      "bbcmtd wholesale markets ablaze\n"
     ]
    }
   ],
   "source": [
    "# 첫 번째 텍스트 꺼내오기\n",
    "sample_text = train_df.iloc[0].text\n",
    "\n",
    "# Run the tokenizer to count up the number of tokens. The tokenizer will split the text into words, punctuations and subwords as needed\n",
    "tokens = tokenizer.tokenize(sample_text)\n",
    "\n",
    "print('train_df의 첫 번째 text에는 {:,}개의 WordPiece Tokens를 가지고 있다'.format(len(tokens)))\n",
    "print('\\nOriginal Text:\\n')\n",
    "print(wrapper.fill(sample_text))"
   ]
  },
  {
   "cell_type": "code",
   "execution_count": 21,
   "id": "quality-canvas",
   "metadata": {},
   "outputs": [
    {
     "name": "stdout",
     "output_type": "stream",
     "text": [
      "==== Tokens ====\n",
      "\n",
      "bbc ##mt ##d wholesale markets ab ##laze\n",
      "\n"
     ]
    }
   ],
   "source": [
    "# 토큰 리스트 출력\n",
    "print('==== Tokens ====\\n')\n",
    "print(wrapper.fill(str(' '.join(tokens))))\n",
    "print('')"
   ]
  },
  {
   "cell_type": "markdown",
   "id": "speaking-fleece",
   "metadata": {},
   "source": [
    "##으로 끊긴 부분은 subword로 끊어 학습한 것"
   ]
  },
  {
   "cell_type": "markdown",
   "id": "nuclear-things",
   "metadata": {},
   "source": [
    "### 모든 트윗들 Bert 이용하여 Tokenize"
   ]
  },
  {
   "cell_type": "code",
   "execution_count": 22,
   "id": "innovative-demand",
   "metadata": {},
   "outputs": [
    {
     "name": "stdout",
     "output_type": "stream",
     "text": [
      "Tokenizing Tweets...\n",
      " Read 0 tweets.\n",
      " Read 100 tweets.\n",
      " Read 200 tweets.\n",
      " Read 300 tweets.\n",
      " Read 400 tweets.\n",
      " Read 500 tweets.\n",
      " Read 600 tweets.\n",
      " Read 700 tweets.\n",
      " Read 800 tweets.\n",
      " Read 900 tweets.\n",
      " Read 1,000 tweets.\n",
      " Read 1,100 tweets.\n",
      " Read 1,200 tweets.\n",
      " Read 1,300 tweets.\n",
      " Read 1,400 tweets.\n",
      " Read 1,500 tweets.\n",
      " Read 1,600 tweets.\n",
      " Read 1,700 tweets.\n",
      " Read 1,800 tweets.\n",
      " Read 1,900 tweets.\n",
      " Read 2,000 tweets.\n",
      " Read 2,100 tweets.\n",
      " Read 2,200 tweets.\n",
      " Read 2,300 tweets.\n",
      " Read 2,400 tweets.\n",
      " Read 2,500 tweets.\n",
      " Read 2,600 tweets.\n",
      " Read 2,700 tweets.\n",
      " Read 2,800 tweets.\n",
      " Read 2,900 tweets.\n",
      " Read 3,000 tweets.\n",
      " Read 3,100 tweets.\n",
      " Read 3,200 tweets.\n",
      " Read 3,300 tweets.\n",
      " Read 3,400 tweets.\n",
      " Read 3,500 tweets.\n",
      " Read 3,600 tweets.\n",
      " Read 3,700 tweets.\n",
      " Read 3,800 tweets.\n",
      " Read 3,900 tweets.\n",
      " Read 4,000 tweets.\n",
      " Read 4,100 tweets.\n",
      " Read 4,200 tweets.\n",
      " Read 4,300 tweets.\n",
      " Read 4,400 tweets.\n",
      " Read 4,500 tweets.\n",
      " Read 4,600 tweets.\n",
      " Read 4,700 tweets.\n",
      " Read 4,800 tweets.\n",
      " Read 4,900 tweets.\n",
      " Read 5,000 tweets.\n",
      " Read 5,100 tweets.\n",
      " Read 5,200 tweets.\n",
      " Read 5,300 tweets.\n",
      " Read 5,400 tweets.\n",
      " Read 5,500 tweets.\n",
      " Read 5,600 tweets.\n",
      " Read 5,700 tweets.\n",
      " Read 5,800 tweets.\n",
      " Read 5,900 tweets.\n",
      " Read 6,000 tweets.\n",
      " Read 6,100 tweets.\n",
      " Read 6,200 tweets.\n",
      " Read 6,300 tweets.\n",
      " Read 6,400 tweets.\n",
      " Read 6,500 tweets.\n",
      " Read 6,600 tweets.\n",
      " Read 6,700 tweets.\n",
      " Read 6,800 tweets.\n",
      " Read 6,900 tweets.\n",
      " Read 7,000 tweets.\n",
      " Read 7,100 tweets.\n",
      " Read 7,200 tweets.\n",
      " Read 7,300 tweets.\n",
      " Read 7,400 tweets.\n",
      " Read 7,500 tweets.\n",
      "DONE.\n",
      "      7552 tweets\n"
     ]
    }
   ],
   "source": [
    "import numpy as np\n",
    "\n",
    "# 모든 문장 토크나이징 하고 kewwords에 따라 분류하기\n",
    "input_keywords  = []\n",
    "\n",
    "# 각 트윗의 토큰 개수 기록\n",
    "token_len = []\n",
    "\n",
    "print('Tokenizing Tweets...')\n",
    "\n",
    "# 각 트윗 마다...\n",
    "for tweet in train_df.text:\n",
    "    # 진행 상황\n",
    "    if ((len(input_keywords) % 100) == 0):\n",
    "        print(' Read {:,} tweets.'.format(len(input_keywords)))\n",
    "    \n",
    "    # encode는 1)트윗을 토크나이징하고, 2)[CLS]토큰을 시작 부분에, [SEP]토큰을 마지막 부분에 추가하고, 3)토큰을 해당 keyword에 매칭\n",
    "    encoded_sent = tokenizer.encode(tweet, add_special_tokens = True) # add_special_tokens: [CLS]와 [SEP]추가'\n",
    "    \n",
    "    # encoded된 트윗을 리스트에 넣기\n",
    "    input_keywords.append(encoded_sent)\n",
    "    \n",
    "    # 각 트윗의 토큰 개수 기록\n",
    "    token_len.append(len(encoded_sent))\n",
    "\n",
    "print('DONE.')\n",
    "print('{:>10} tweets'.format(len(input_keywords)))\n",
    "\n"
   ]
  },
  {
   "cell_type": "code",
   "execution_count": 23,
   "id": "tested-indiana",
   "metadata": {},
   "outputs": [
    {
     "name": "stdout",
     "output_type": "stream",
     "text": [
      "전체 tweets 중 토큰 최대 개수: 55, 최소 개수: 3, 중간값: 20\n"
     ]
    }
   ],
   "source": [
    "# 토큰나이징 된 train_df의 tweet들 중 가장 긴 tweet의 단어 개수와 가장 짧은 단어 개수 출력\n",
    "\n",
    "print('전체 tweets 중 토큰 최대 개수: {:>,}, 최소 개수: {:>,}, 중간값: {:.0f}'.format(max(token_len), min(token_len), np.median(token_len)))"
   ]
  },
  {
   "cell_type": "markdown",
   "id": "interesting-spray",
   "metadata": {},
   "source": [
    "### 토큰 길이 분포에 따른 시각화"
   ]
  },
  {
   "cell_type": "code",
   "execution_count": 34,
   "id": "australian-ozone",
   "metadata": {},
   "outputs": [
    {
     "data": {
      "image/png": "[encoded data removed]",
      "text/plain": [
       "<Figure size 720x360 with 1 Axes>"
      ]
     },
     "metadata": {},
     "output_type": "display_data"
    }
   ],
   "source": [
    "import matplotlib.pyplot as plt\n",
    "import seaborn as sns\n",
    "import numpy as np\n",
    "import plotly.graph_objects as go\n",
    "import plotly.express as px\n",
    "\n",
    "\n",
    "sns.set(style = 'darkgrid')\n",
    "\n",
    "# 플롯 크기랑 폰트 사이즈 키우기\n",
    "sns.set(font_scale = 1.5)\n",
    "plt.rcParams['figure.figsize'] = (10, 5)\n",
    "\n",
    "# 트윗 토큰 개수에 따른 시각화\n",
    "sns.histplot(token_len, kde = False)\n",
    "plt.title(\"Number of Tokens\")\n",
    "plt.xlabel('# of tokens')\n",
    "plt.ylabel('# of tweets')\n",
    "plt.show()"
   ]
  },
  {
   "cell_type": "code",
   "execution_count": 25,
   "id": "realistic-jumping",
   "metadata": {},
   "outputs": [],
   "source": [
    "# 트윗의 길이와 재난 관련 트윗일 확률 간에 상관 관계가 있을까?\n",
    "\n"
   ]
  },
  {
   "cell_type": "markdown",
   "id": "organizational-january",
   "metadata": {},
   "source": [
    "### 트윗들 padding하기"
   ]
  },
  {
   "cell_type": "code",
   "execution_count": 26,
   "id": "bizarre-examination",
   "metadata": {},
   "outputs": [
    {
     "name": "stdout",
     "output_type": "stream",
     "text": [
      "\n",
      "Padding all tweets to 55 values...\n",
      "\n",
      "Padding Token: \"[PAD]\", ID: 0\n",
      "\n",
      "DONE.\n"
     ]
    }
   ],
   "source": [
    "### 트윗들 padding하기\n",
    "\n",
    "\n",
    "from tensorflow.keras.preprocessing.sequence import pad_sequences\n",
    "\n",
    "MAX_LEN = 55 #트윗당 최대 토큰 개수로 맞춰서 누락되는 토큰 아예 없애기\n",
    "\n",
    "print('\\nPadding all tweets to %d values...' % MAX_LEN)\n",
    "print('\\nPadding Token: \"{:}\", ID: {:}'.format(tokenizer.pad_token, tokenizer.pad_token_id))\n",
    "\n",
    "# input_keywords에 담긴 트윗당 토큰들을 0으로 채워넣어 Max_len 크기로 패딩하기\n",
    "input_keywords = pad_sequences(input_keywords, maxlen = MAX_LEN, dtype = 'long', value = 0, truncating = 'post', padding = 'post')\n",
    "print('\\nDONE.')"
   ]
  },
  {
   "cell_type": "markdown",
   "id": "complex-image",
   "metadata": {},
   "source": [
    "attention_masks로 패딩값과 패딩 아닌 값들 구분"
   ]
  },
  {
   "cell_type": "code",
   "execution_count": 27,
   "id": "noble-service",
   "metadata": {},
   "outputs": [],
   "source": [
    "attention_masks = []\n",
    "\n",
    "for sent in input_keywords:\n",
    "    att_mask = [int(token_id>0) for token_id in sent]\n",
    "\n",
    "    attention_masks.append(att_mask)"
   ]
  },
  {
   "cell_type": "markdown",
   "id": "contained-satin",
   "metadata": {},
   "source": [
    "---"
   ]
  },
  {
   "cell_type": "markdown",
   "id": "chinese-bracket",
   "metadata": {},
   "source": [
    "학습용 데이터 90%와 검증용 데이터 10%로 나누기"
   ]
  },
  {
   "cell_type": "code",
   "execution_count": 28,
   "id": "formal-sunrise",
   "metadata": {},
   "outputs": [],
   "source": [
    "from sklearn.model_selection import train_test_split\n",
    "\n",
    "# 훈련 90% 검증 10%로 나누기\n",
    "train_inputs, validation_inputs = train_test_split(input_keywords, random_state = 2018, test_size = 0.1)\n",
    "\n",
    "# 마스크도 나누어 주기\n",
    "train_masks, validation_masks = train_test_split(attention_masks, random_state = 2018, test_size = 0.1)"
   ]
  },
  {
   "cell_type": "markdown",
   "id": "arbitrary-values",
   "metadata": {},
   "source": [
    "BERT 모델은 넘파이보다 파이토치 텐서를 입력값으로 받으므로 파이토치로 변환"
   ]
  },
  {
   "cell_type": "code",
   "execution_count": 31,
   "id": "differential-structure",
   "metadata": {},
   "outputs": [],
   "source": [
    "train_inputs = torch.tensor(train_inputs)\n",
    "validation_inputs = torch.tensor(validation_inputs)\n",
    "\n",
    "train_masks = torch.tensor(train_masks)\n",
    "validation_masks = torch.tensor(validation_masks)"
   ]
  },
  {
   "cell_type": "markdown",
   "id": "hydraulic-position",
   "metadata": {},
   "source": [
    "데이터셋 iterator만들어 메모리 절약"
   ]
  },
  {
   "cell_type": "code",
   "execution_count": 32,
   "id": "acute-telephone",
   "metadata": {},
   "outputs": [],
   "source": [
    "from torch.utils.data import TensorDataset, DataLoader, RandomSampler, SequentialSampler\n",
    "\n",
    "batch_size = 32\n",
    "\n",
    "# 훈련 데이터를 위한 data_loader\n",
    "train_data= TensorDataset(train_inputs, train_masks)\n",
    "train_sampler = RandomSampler(train_data)\n",
    "train_dataloader = DataLoader(train_data, sampler = train_sampler, batch_size = batch_size)"
   ]
  },
  {
   "cell_type": "code",
   "execution_count": 33,
   "id": "about-genealogy",
   "metadata": {},
   "outputs": [
    {
     "data": {
      "application/vnd.jupyter.widget-view+json": {
       "model_id": "30c672628ed84a6a8c8fd328f37c8085",
       "version_major": 2,
       "version_minor": 0
      },
      "text/plain": [
       "Downloading:   0%|          | 0.00/433 [00:00<?, ?B/s]"
      ]
     },
     "metadata": {},
     "output_type": "display_data"
    },
    {
     "data": {
      "application/vnd.jupyter.widget-view+json": {
       "model_id": "3cde19b18e82491b9c53801a1736b863",
       "version_major": 2,
       "version_minor": 0
      },
      "text/plain": [
       "Downloading:   0%|          | 0.00/440M [00:00<?, ?B/s]"
      ]
     },
     "metadata": {},
     "output_type": "display_data"
    },
    {
     "name": "stderr",
     "output_type": "stream",
     "text": [
      "Some weights of the model checkpoint at bert-base-uncased were not used when initializing BertForSequenceClassification: ['cls.predictions.bias', 'cls.predictions.transform.dense.weight', 'cls.predictions.transform.dense.bias', 'cls.predictions.decoder.weight', 'cls.seq_relationship.weight', 'cls.seq_relationship.bias', 'cls.predictions.transform.LayerNorm.weight', 'cls.predictions.transform.LayerNorm.bias']\n",
      "- This IS expected if you are initializing BertForSequenceClassification from the checkpoint of a model trained on another task or with another architecture (e.g. initializing a BertForSequenceClassification model from a BertForPreTraining model).\n",
      "- This IS NOT expected if you are initializing BertForSequenceClassification from the checkpoint of a model that you expect to be exactly identical (initializing a BertForSequenceClassification model from a BertForSequenceClassification model).\n",
      "Some weights of BertForSequenceClassification were not initialized from the model checkpoint at bert-base-uncased and are newly initialized: ['classifier.weight', 'classifier.bias']\n",
      "You should probably TRAIN this model on a down-stream task to be able to use it for predictions and inference.\n"
     ]
    }
   ],
   "source": [
    "from transformers import BertForSequenceClassification, AdamW, BertConfig\n",
    "\n",
    "model = BertForSequenceClassification.from_pretrained(\n",
    "    'bert-base-uncased', \n",
    "    num_labels = 2, #이진 분류이므로\n",
    "    output_attentions = False,\n",
    "    output_hidden_states = False\n",
    ")\n",
    "\n",
    "# model.cuda()  #GPU로 모델 돌릴거라고 말해줌"
   ]
  },
  {
   "cell_type": "code",
   "execution_count": null,
   "id": "intended-emission",
   "metadata": {},
   "outputs": [],
   "source": [
    "optimizer = AdamW(model.parameters(), lr = 2e-5, eps = 1e-8)\n",
    "\n",
    "from transformers import get_linear_schedule_with_warmup\n",
    "\n",
    "epochs = 4\n",
    "\n",
    "total_steps = len(train_dataloader)* epochs\n",
    "\n",
    "# learning rate scheduler 만들기\n",
    "scheduler = get_linear_schedule_with_warmup(optimizer, num_warmup_steps = 0, num_training_steps = total_steps)\n",
    "\n",
    "정확도 측정 위한 helper 함수 정의\n",
    "\n",
    "import numpy as np\n",
    "def \n",
    "\n",
    "device = torch.device('cpu')\n",
    "\n",
    "import random\n",
    "\n",
    "seed_val = 42\n",
    "\n",
    "random.seed(seed_val)\n",
    "np.random.seed(seed_val)\n",
    "torch.manual_seed(seed_val)\n",
    "torch.cuda.manual_seed_all(seed_val)\n",
    "\n",
    "loss_values = []\n",
    "\n",
    "for epoch_i in range(0, epochs):\n",
    "    print(\"\")\n",
    "    print('=== Epochs {:} / {:} ==='.format(epoch_i+i, epochs))\n",
    "    print(\"Training...\")\n",
    "\n",
    "    t0 = time.time()\n",
    "\n",
    "    total_loss = 0\n",
    "\n",
    "    model.train()\n",
    "\n",
    "    for step, batch in enumerate(train_dataloader):\n",
    "        if step % 100 == 0 and not step == 0:\n",
    "            elapsed = format_time(time.time() - t0)\n",
    "\n",
    "            # 진행상황\n",
    "            print(' Batch  {:>} of {:>5,}. Elapsed: {:}.'.format(step, len(train_dataloader), elapsed))\n",
    "\n",
    "        b_input_ids = batch[0].to(device)\n",
    "        b_input_mask = batch[1].to(device)\n",
    "        # b_labels = batch[2].to(device)\n",
    "\n",
    "        model.zero_grad()\n",
    "\n",
    "        outputs = model(b_input_ids, token_type_ids = None, attention_masks = b_input_mask) # labels = b_labels\n",
    "\n",
    "        loss = outputs[0]\n",
    "\n",
    "        total_loss += loss.item()\n",
    "\n",
    "        loss.backward()\n",
    "\n",
    "        torch.nn.utils.clip_grad_norm_(model.parameters(), 1.0)\n",
    "\n",
    "        optimizer.step()\n",
    "\n",
    "        scheduler.step()\n",
    "      \n",
    "    avg_train_loss = total_loss/ len(train_dataloader)\n",
    "\n",
    "    loss_values.append(avg_train_loss)\n",
    "\n",
    "    print(\"\")\n",
    "    print(\"\")"
   ]
  }
 ],
 "metadata": {
  "kernelspec": {
   "display_name": "Python 3",
   "language": "python",
   "name": "python3"
  },
  "language_info": {
   "codemirror_mode": {
    "name": "ipython",
    "version": 3
   },
   "file_extension": ".py",
   "mimetype": "text/x-python",
   "name": "python",
   "nbconvert_exporter": "python",
   "pygments_lexer": "ipython3",
   "version": "3.7.10"
  }
 },
 "nbformat": 4,
 "nbformat_minor": 5
}
